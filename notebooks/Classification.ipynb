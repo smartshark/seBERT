{
 "cells": [
  {
   "cell_type": "markdown",
   "id": "764e64af-ef10-4834-9eb8-7404573c2a4d",
   "metadata": {},
   "source": [
    "# Sequence classification for sentiment analysis\n",
    "This is just an example for how the fine-tuned model from the FineTuning.ipynb can be used."
   ]
  },
  {
   "cell_type": "code",
   "execution_count": null,
   "id": "fcf1ee9c-a3cf-46d9-8ac7-ef30c422d0c5",
   "metadata": {},
   "outputs": [],
   "source": [
    "from transformers import BertTokenizer, BertForSequenceClassification, pipeline"
   ]
  },
  {
   "cell_type": "code",
   "execution_count": null,
   "id": "2152fbc1-6dc7-4476-88d2-032fed00e5cf",
   "metadata": {},
   "outputs": [],
   "source": [
    "SENTIMENT_MODEL_PATH = './models/sentiment/'"
   ]
  },
  {
   "cell_type": "code",
   "execution_count": null,
   "id": "4e18f022-5e20-40da-9770-9eaea524ef82",
   "metadata": {},
   "outputs": [],
   "source": [
    "model = BertForSequenceClassification.from_pretrained(MODEL_PATH)\n",
    "tokenizer = BertTokenizer.from_pretrained(MODEL_PATH)\n",
    "\n",
    "livetest = pipeline('sentiment-analysis', model=model, tokenizer=tokenizer)"
   ]
  },
  {
   "cell_type": "code",
   "execution_count": null,
   "id": "fbc2402d-5c50-48d6-8e21-072d8408186e",
   "metadata": {},
   "outputs": [],
   "source": [
    "def feed(text):\n",
    "    result = livetest(text)\n",
    "    label_map = {'LABEL_0': 'negative',\n",
    "                 'LABEL_1': 'neutral',\n",
    "                 'LABEL_2': 'positive'}\n",
    "    answer = {label_map[x['label']]: round(x['score'], 4) for x in result}\n",
    "    print(text)\n",
    "    print('\\nclassified as:')\n",
    "    print(answer)"
   ]
  },
  {
   "cell_type": "code",
   "execution_count": null,
   "id": "cd17a34c-b5b2-4ec5-ab31-1ad255d5f888",
   "metadata": {},
   "outputs": [],
   "source": [
    "text = \"\"\"I am mad about this!\"\"\"\n",
    "\n",
    "feed(text)"
   ]
  }
 ],
 "metadata": {
  "kernelspec": {
   "display_name": "Python 3 (ipykernel)",
   "language": "python",
   "name": "python3"
  },
  "language_info": {
   "codemirror_mode": {
    "name": "ipython",
    "version": 3
   },
   "file_extension": ".py",
   "mimetype": "text/x-python",
   "name": "python",
   "nbconvert_exporter": "python",
   "pygments_lexer": "ipython3",
   "version": "3.9.10"
  }
 },
 "nbformat": 4,
 "nbformat_minor": 5
}
